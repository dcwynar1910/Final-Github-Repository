{
  "cells": [
    {
      "cell_type": "code",
      "execution_count": null,
      "id": "9a0a010a",
      "metadata": {
        "id": "9a0a010a"
      },
      "outputs": [],
      "source": [
        "import os\n",
        "import argparse\n",
        "import aifc\n",
        "import numpy as np\n",
        "import torch\n",
        "from PIL import Image\n",
        "from tqdm import tqdm\n",
        "import csv\n",
        "import librosa"
      ]
    },
    {
      "cell_type": "code",
      "source": [
        "\n",
        "\n",
        "def read_aiff(path):\n",
        "    with aifc.open(path, 'r') as f:\n",
        "        audio = f.readframes(f.getnframes())\n",
        "        signal = np.frombuffer(audio, dtype=np.int16).byteswap().astype(np.float32)\n",
        "    signal -= np.mean(signal)\n",
        "    signal /= (np.std(signal) + 1e-8)\n",
        "    return signal\n",
        "\n",
        "def compute_spectrogram(signal, sr, n_fft=512, n_mels=128):\n",
        "    mel = librosa.feature.melspectrogram(y=signal, sr=sr, n_fft=n_fft, hop_length=128, n_mels=n_mels, fmin=20, fmax=sr // 2)\n",
        "    mel_db = librosa.power_to_db(mel, ref=np.max)\n",
        "    return mel_db\n",
        "\n",
        "def spectrogram_to_tensor(spec, size=(224, 224)):\n",
        "    # Convert to 3-channel image\n",
        "    img = Image.fromarray(spec).convert(\"RGB\")\n",
        "    img = img.resize(size, Image.BICUBIC)\n",
        "    img_tensor = torch.from_numpy(np.array(img)).permute(2, 0, 1).float() / 255.0\n",
        "    return img_tensor\n",
        "\n",
        "def main():\n",
        "    # Example usage (replace with your actual arguments)\n",
        "    data_dir = \"path/to/your/audio/files\"  # Replace with your data directory\n",
        "    label_csv = \"path/to/your/labels.csv\"  # Replace with your label CSV file\n",
        "    processed_dir = \"path/to/output/directory\" # Replace with your output directory\n",
        "    sampling_rate = 2000  # Replace with your sampling rate if different\n",
        "\n",
        "    os.makedirs(processed_dir, exist_ok=True)\n",
        "\n",
        "    with open(label_csv, 'r') as f:\n",
        "        reader = csv.reader(f)\n",
        "        rows = list(reader)[1:]  # Skip the header row\n",
        "\n",
        "    for fname, label in tqdm(rows, desc=\"Processing audio files\"):\n",
        "        path = os.path.join(data_dir, fname)\n",
        "        if not os.path.exists(path):\n",
        "            print(f\"Warning: File not found - {path}\")\n",
        "            continue\n",
        "\n",
        "        try:\n",
        "            signal = read_aiff(path)\n",
        "            spec = compute_spectrogram(signal, sampling_rate)\n",
        "            tensor = spectrogram_to_tensor(spec)\n",
        "\n",
        "            # Save the tensor (example using torch.save)\n",
        "            output_filename = os.path.splitext(fname)[0] + \".pt\"  # Or another suitable extension\n",
        "            output_path = os.path.join(processed_dir, output_filename)\n",
        "            torch.save(tensor, output_path)\n",
        "\n",
        "        except Exception as e:\n",
        "            print(f\"Error processing file {fname}: {e}\")\n",
        "\n",
        "if __name__ == \"__main__\":\n",
        "    main()\n"
      ],
      "metadata": {
        "id": "Sk0u2Bq6ZUoB"
      },
      "id": "Sk0u2Bq6ZUoB",
      "execution_count": null,
      "outputs": []
    }
  ],
  "metadata": {
    "language_info": {
      "name": "python"
    },
    "colab": {
      "provenance": []
    }
  },
  "nbformat": 4,
  "nbformat_minor": 5
}